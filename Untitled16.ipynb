{
 "cells": [
  {
   "cell_type": "code",
   "execution_count": 2,
   "id": "7ab2292a-f6dd-4fa4-9229-32420287494e",
   "metadata": {},
   "outputs": [
    {
     "name": "stdin",
     "output_type": "stream",
     "text": [
      "Enter your age:  26\n"
     ]
    },
    {
     "name": "stdout",
     "output_type": "stream",
     "text": [
      "Your maximum heart rate is 194 beats per minute.\n",
      "Your target heart rate range is 97 - 165 beats per minute.\n"
     ]
    }
   ],
   "source": [
    "# Lab 2 by Sriman\n",
    "# Exercise 2.14: Target Heart-Rate Calculator\n",
    "\n",
    "# Prompt user for their age\n",
    "age = int(input(\"Enter your age: \"))\n",
    "\n",
    "# Calculate maximum heart rate\n",
    "max_heart_rate = 220 - age\n",
    "\n",
    "# Calculate the target heart rate range (50–85% of the max heart rate)\n",
    "target_min = max_heart_rate * 0.50\n",
    "target_max = max_heart_rate * 0.85\n",
    "\n",
    "# Display the results\n",
    "print(f\"Your maximum heart rate is {max_heart_rate} beats per minute.\")\n",
    "print(f\"Your target heart rate range is {target_min:.0f} - {target_max:.0f} beats per minute.\")\n"
   ]
  },
  {
   "cell_type": "code",
   "execution_count": null,
   "id": "22f072e5-5a3d-47cf-801e-3343278af838",
   "metadata": {},
   "outputs": [],
   "source": []
  }
 ],
 "metadata": {
  "kernelspec": {
   "display_name": "Python 3 (ipykernel)",
   "language": "python",
   "name": "python3"
  },
  "language_info": {
   "codemirror_mode": {
    "name": "ipython",
    "version": 3
   },
   "file_extension": ".py",
   "mimetype": "text/x-python",
   "name": "python",
   "nbconvert_exporter": "python",
   "pygments_lexer": "ipython3",
   "version": "3.12.4"
  }
 },
 "nbformat": 4,
 "nbformat_minor": 5
}
